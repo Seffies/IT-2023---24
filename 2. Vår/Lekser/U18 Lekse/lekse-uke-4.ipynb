{
 "cells": [
  {
   "cell_type": "markdown",
   "metadata": {},
   "source": [
    "# Lekse uke 4\n",
    "\n",
    "> IT-uke 18\n",
    "\n",
    "Oppgave 2.9 og 2.10 fra [it2.thorcc.no](https://it2.thorcc.no)"
   ]
  },
  {
   "cell_type": "markdown",
   "metadata": {},
   "source": [
    "### Oppgave 2.9\n",
    "\n",
    "1. Print ordboken til den første spilleren.\n",
    "2. Lag en for-løkke som printer navn og nasjonalitet på hver spiller.\n",
    "3. Utvid koden slik at for-løkken også printer antall gullballer spillerne har vunnet."
   ]
  },
  {
   "cell_type": "code",
   "execution_count": 1,
   "metadata": {},
   "outputs": [],
   "source": [
    "gullballen = [\n",
    "  {\n",
    "    \"navn\": \"Luís Figo\",\n",
    "    \"år\": [2000],\n",
    "    \"nasjonalitet\": \"Portugal\",\n",
    "    \"klubber\": [\"Real Madrid\"]\n",
    "  },\n",
    "  {\n",
    "    \"navn\": \"Michael Owen\",\n",
    "    \"år\": [2001],\n",
    "    \"nasjonalitet\": \"England\",\n",
    "    \"klubber\": [\"Liverpool\"]\n",
    "  },\n",
    "  {\n",
    "    \"navn\": \"Ronaldo\",\n",
    "    \"år\": [2002],\n",
    "    \"nasjonalitet\": \"Brasil\",\n",
    "    \"klubber\": [\"Real Madrid\"]\n",
    "  },\n",
    "  {\n",
    "    \"navn\": \"Pavel Nedvěd\",\n",
    "    \"år\": [2003],\n",
    "    \"nasjonalitet\": \"Tsjekkia\",\n",
    "    \"klubber\": [\"Juventus\"]\n",
    "  },\n",
    "  {\n",
    "    \"navn\": \"Andriy Shevchenko\",\n",
    "    \"år\": [2004],\n",
    "    \"nasjonalitet\": \"Ukraina\",\n",
    "    \"klubber\": [\"Milan\"]\n",
    "  },\n",
    "  {\n",
    "    \"navn\": \"Ronaldinho\",\n",
    "    \"år\": [2005],\n",
    "    \"nasjonalitet\": \"Brasil\",\n",
    "    \"klubber\": [\"Barcelona\"]\n",
    "  },\n",
    "  {\n",
    "    \"navn\": \"Fabio Cannavaro\",\n",
    "    \"år\": [2006],\n",
    "    \"nasjonalitet\": \"Italia\",\n",
    "    \"klubber\": [\"Real Madrid\"]\n",
    "  },\n",
    "  {\n",
    "    \"navn\": \"Kaká\",\n",
    "    \"år\": [2007],\n",
    "    \"nasjonalitet\": \"Brasil\",\n",
    "    \"klubber\": [\"Milan\"]\n",
    "  },\n",
    "  {\n",
    "    \"navn\": \"Cristiano Ronaldo\",\n",
    "    \"år\": [2008, 2013, 2014, 2016, 2017],\n",
    "    \"nasjonalitet\": \"Portugal\",\n",
    "    \"klubber\": [\"Manchester United\", \"Real Madrid\"]\n",
    "  },\n",
    "  {\n",
    "    \"navn\": \"Lionel Messi\",\n",
    "    \"år\": [2009, 2010, 2011, 2012, 2015, 2019, 2021, 2023],\n",
    "    \"nasjonalitet\": \"Argentina\",\n",
    "    \"klubber\": [\"Barcelona\", \"Paris Saint-Germain F.C.\", \"Inter Miami\"]\n",
    "  },\n",
    "  {\n",
    "    \"navn\": \"Luka Modric\",\n",
    "    \"år\": [2018],\n",
    "    \"nasjonalitet\": \"Kroatia\",\n",
    "    \"klubber\": [\"Real Madrid\"]\n",
    "  },\n",
    "  {\n",
    "    \"navn\": \"Karim Benzema\",\n",
    "    \"år\": [2022],\n",
    "    \"nasjonalitet\": \"Frankrike\",\n",
    "    \"klubber\": [\"Real Madrid\"]\n",
    "  }\n",
    "]\n",
    "# OBS! Trykk play på denne kodeblokken,\n",
    "# slik at den putter listen i PC-ens minne"
   ]
  },
  {
   "cell_type": "code",
   "execution_count": 5,
   "metadata": {},
   "outputs": [
    {
     "data": {
      "text/plain": [
       "{'navn': 'Luís Figo',\n",
       " 'år': [2000],\n",
       " 'nasjonalitet': 'Portugal',\n",
       " 'klubber': ['Real Madrid']}"
      ]
     },
     "execution_count": 5,
     "metadata": {},
     "output_type": "execute_result"
    }
   ],
   "source": [
    "# 1. Print ordboken til den første spilleren.\n",
    "gullballen[0]"
   ]
  },
  {
   "cell_type": "code",
   "execution_count": 9,
   "metadata": {},
   "outputs": [
    {
     "name": "stdout",
     "output_type": "stream",
     "text": [
      "Luís Figo\n",
      "Portugal \n",
      "\n",
      "Michael Owen\n",
      "England \n",
      "\n",
      "Ronaldo\n",
      "Brasil \n",
      "\n",
      "Pavel Nedvěd\n",
      "Tsjekkia \n",
      "\n",
      "Andriy Shevchenko\n",
      "Ukraina \n",
      "\n",
      "Ronaldinho\n",
      "Brasil \n",
      "\n",
      "Fabio Cannavaro\n",
      "Italia \n",
      "\n",
      "Kaká\n",
      "Brasil \n",
      "\n",
      "Cristiano Ronaldo\n",
      "Portugal \n",
      "\n",
      "Lionel Messi\n",
      "Argentina \n",
      "\n",
      "Luka Modric\n",
      "Kroatia \n",
      "\n",
      "Karim Benzema\n",
      "Frankrike \n",
      "\n",
      "antall spillere som har vunnet gullballen er 12\n"
     ]
    }
   ],
   "source": [
    "# 2. Lag en for-løkke som printer navn og nasjonalitet på hver spiller.\n",
    "for spiller in gullballen:\n",
    "    print(spiller[\"navn\"])\n",
    "    print(spiller[\"nasjonalitet\"],\"\\n\")"
   ]
  },
  {
   "cell_type": "code",
   "execution_count": 2,
   "metadata": {},
   "outputs": [],
   "source": [
    "# 3. Utvid koden slik at for-løkken også printer antall gullballer \n",
    "#    spillerne har vunnet.\n",
    "antall_spillere = 0\n",
    "\n",
    "for spiller in gullballen:\n",
    "    print(spiller[\"navn\"])\n",
    "    print(spiller[\"nasjonalitet\"])\n",
    "    antall_spillere += 1\n",
    "\n",
    "print(\"antall spillere som har vunnet gullballen er\", antall_spillere)"
   ]
  },
  {
   "cell_type": "markdown",
   "metadata": {},
   "source": [
    "### Oppgave 2.10\n",
    "\n",
    "1. Hvor mange følgere har kontoene på listen i gjennomsnitt?\n",
    "2. Hvor mange kontoer på listen kommer ikke fra USA?"
   ]
  },
  {
   "cell_type": "code",
   "execution_count": 11,
   "metadata": {},
   "outputs": [],
   "source": [
    "topp_30 = [\n",
    "    {\"name\": \"Cristiano Ronaldo\", \"account\": \"@cristiano\", \"followers\": 617.16, \"nationality\": \"Portugal\"},\n",
    "    {\"name\": \"Leo Messi\", \"account\": \"@leomessi\", \"followers\": 497.05, \"nationality\": \"Argentina\"},\n",
    "    {\"name\": \"Selena Gomez\", \"account\": \"@selenagomez\", \"followers\": 429.66, \"nationality\": \"United States\"},\n",
    "    {\"name\": \"Kylie Jenner\", \"account\": \"@kyliejenner\", \"followers\": 399.45, \"nationality\": \"United States\"},\n",
    "    {\"name\": \"Dwayne Johnson\", \"account\": \"@therock\", \"followers\": 395.59, \"nationality\": \"United States\"},\n",
    "    {\"name\": \"Ariana Grande\", \"account\": \"@arianagrande\", \"followers\": 380.78, \"nationality\": \"United States\"},\n",
    "    {\"name\": \"Kim Kardashian\", \"account\": \"@kimkardashian\", \"followers\": 364, \"nationality\": \"United States\"},\n",
    "    {\"name\": \"Beyoncé\", \"account\": \"@beyonce\", \"followers\": 319.6, \"nationality\": \"United States\"},\n",
    "    {\"name\": \"Khloé Kardashian\", \"account\": \"@khloekardashian\", \"followers\": 311.3, \"nationality\": \"United States\"},\n",
    "    {\"name\": \"Nike\", \"account\": \"@nike\", \"followers\": 306, \"nationality\": \"United States\"},\n",
    "    {\"name\": \"Justin Bieber\", \"account\": \"@justinbieber\", \"followers\": 304.9, \"nationality\": \"Canada\"},\n",
    "    {\"name\": \"Taylor Swift\", \"account\": \"@taylorswift\", \"followers\": 282.8, \"nationality\": \"United States\"},\n",
    "    {\"name\": \"Neymar Jr\", \"account\": \"@neymarjr\", \"followers\": 282.7, \"nationality\": \"Brazil\"},\n",
    "    {\"name\": \"Kendall Jenner\", \"account\": \"@kendalljenner\", \"followers\": 279.9, \"nationality\": \"United States\"},\n",
    "    {\"name\": \"Jennifer Lopez\", \"account\": \"@jlo\", \"followers\": 277.2, \"nationality\": \"United States\"},\n",
    "    {\"name\": \"Nicki Minaj\", \"account\": \"@nickiminaj\", \"followers\": 262.5, \"nationality\": \"Trinidad and Tobago\"},\n",
    "    {\"name\": \"National Geographic\", \"account\": \"@natgeo\", \"followers\": 206.9, \"nationality\": \"United States\"},\n",
    "    {\"name\": \"Lionel Andrés Messi Cuccittini\", \"account\": \"@leomessi10\", \"followers\": 201.8, \"nationality\": \"Argentina\"},\n",
    "    {\"name\": \"Miley Cyrus\", \"account\": \"@mileycyrus\", \"followers\": 198.7, \"nationality\": \"United States\"},\n",
    "    {\"name\": \"Katy Perry\", \"account\": \"@katyperry\", \"followers\": 198.4, \"nationality\": \"United States\"},\n",
    "    {\"name\": \"Kourtney Kardashian\", \"account\": \"@kourtneykardash\", \"followers\": 196.8, \"nationality\": \"United States\"},\n",
    "    {\"name\": \"Kevin Hart\", \"account\": \"@kevinhart4real\", \"followers\": 195.8, \"nationality\": \"United States\"},\n",
    "    {\"name\": \"Ellen DeGeneres\", \"account\": \"@theellenshow\", \"followers\": 194.7, \"nationality\": \"United States\"},\n",
    "    {\"name\": \"Virat Kohli\", \"account\": \"@virat.kohli\", \"followers\": 194.5, \"nationality\": \"India\"},\n",
    "    {\"name\": \"Billie Eilish\", \"account\": \"@billieeilish\", \"followers\": 193.9, \"nationality\": \"United States\"},\n",
    "    {\"name\": \"Rihanna\", \"account\": \"@badgalriri\", \"followers\": 191.5, \"nationality\": \"Barbados\"},\n",
    "    {\"name\": \"Zendaya\", \"account\": \"@zendaya\", \"followers\": 190.9, \"nationality\": \"United States\"},\n",
    "    {\"name\": \"Drake\", \"account\": \"@champagnepapi\", \"followers\": 190.8, \"nationality\": \"Canada\"},\n",
    "    {\"name\": \"Emma Watson\", \"account\": \"@emmawatson\", \"followers\": 189.7, \"nationality\": \"United Kingdom\"},\n",
    "    {\"name\": \"LeBron James\", \"account\": \"@kingjames\", \"followers\": 188.8, \"nationality\": \"United States\"}\n",
    "]"
   ]
  },
  {
   "cell_type": "code",
   "execution_count": 12,
   "metadata": {},
   "outputs": [
    {
     "name": "stdout",
     "output_type": "stream",
     "text": [
      "Alle kontoene har i gjennomsnitt 281.45966666666664 følgere\n"
     ]
    }
   ],
   "source": [
    "# 1. Hvor mange følgere har kontoene på listen i gjennomsnitt?\n",
    "antall_kontoer = 0\n",
    "total_folgere = 0\n",
    "\n",
    "for konto in topp_30:\n",
    "    antall_kontoer += 1\n",
    "    total_folgere += konto[\"followers\"]\n",
    "\n",
    "print(\"Alle kontoene har i gjennomsnitt\", total_folgere/antall_kontoer, \"følgere\")"
   ]
  },
  {
   "cell_type": "code",
   "execution_count": 15,
   "metadata": {},
   "outputs": [
    {
     "name": "stdout",
     "output_type": "stream",
     "text": [
      "10 kontoer er ikke fra USA\n"
     ]
    }
   ],
   "source": [
    "# 2. Hvor mange kontoer på listen kommer ikke fra USA?\n",
    "antall_ikke_USA = 0\n",
    "\n",
    "for konto in topp_30:\n",
    "    if konto[\"nationality\"] != \"United States\":\n",
    "        antall_ikke_USA += 1\n",
    "\n",
    "print(antall_ikke_USA, \"kontoer er ikke fra USA\")"
   ]
  },
  {
   "cell_type": "code",
   "execution_count": null,
   "metadata": {},
   "outputs": [],
   "source": []
  }
 ],
 "metadata": {
  "kernelspec": {
   "display_name": "Python 3",
   "language": "python",
   "name": "python3"
  },
  "language_info": {
   "codemirror_mode": {
    "name": "ipython",
    "version": 3
   },
   "file_extension": ".py",
   "mimetype": "text/x-python",
   "name": "python",
   "nbconvert_exporter": "python",
   "pygments_lexer": "ipython3",
   "version": "3.10.8"
  }
 },
 "nbformat": 4,
 "nbformat_minor": 2
}
