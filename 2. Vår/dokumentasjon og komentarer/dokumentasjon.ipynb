{
 "cells": [
  {
   "cell_type": "code",
   "execution_count": 1,
   "metadata": {},
   "outputs": [
    {
     "name": "stdout",
     "output_type": "stream",
     "text": [
      "Hello, World!\n"
     ]
    }
   ],
   "source": [
    "print(\"Hello, World!\")"
   ]
  },
  {
   "cell_type": "markdown",
   "metadata": {},
   "source": [
    "# Dokumentasjon og kommentarer\n",
    "\n",
    "## Plan\n",
    "\n",
    "1. Hvorfor Kommentere/dokumentere\n",
    "2. Kommentarer vs. Dokumentasjon\n",
    "3. Kommentarer\n",
    "   1. Hvordan?\n",
    "   2. Trenger vi egentlig kommentarer?\n",
    "4. Type hinting\n",
    "5. Docstrings\n",
    "\n",
    "## Oppgaver \n",
    "\n",
    "- 3.17 - 3.20 på it2.thorcc.no\n",
    "- Prosjektarbeid"
   ]
  },
  {
   "cell_type": "markdown",
   "metadata": {},
   "source": [
    "# Kommentarer"
   ]
  },
  {
   "cell_type": "code",
   "execution_count": null,
   "metadata": {},
   "outputs": [],
   "source": [
    "# Kommentarer i python lages med # (hastag)\n",
    "\"\"\"Dette er også en kommentar\"\"\"\n",
    "\"\"\"Kommentarer med tre anførselstegn \n",
    "kan også gå over flere linjer\"\"\"\n",
    "\n",
    "# I følge pythons stilguide (PEP 8) En kommentar skal ikke en kommentar være lenger enn 72 tegn\n",
    "# Hvis en kommentar er lengre enn 72 tegn legger vi på et linjeskift.\n",
    "# Det er vanlig å bruke hashtags selv om vi har lange kommentarer som går over flere\n",
    "# linjer"
   ]
  },
  {
   "cell_type": "code",
   "execution_count": null,
   "metadata": {},
   "outputs": [],
   "source": [
    "def ta_på_regntøy(vær):\n",
    "    # sjekker om været er regn\n",
    "    if vær == \"regn\":\n",
    "        # returnerer true hvis været er regn\n",
    "        return True\n",
    "    else:\n",
    "        # returnerer false hvis været ikke er regn\n",
    "        return False\n",
    "    \n",
    "def ta_på_regntøy(vær):\n",
    "    if vær == \"regn\":\n",
    "        return True\n",
    "    else:\n",
    "        return False\n",
    "    "
   ]
  },
  {
   "cell_type": "markdown",
   "metadata": {},
   "source": [
    "# Oppgaver\n",
    "\n",
    "## Oppgave 3.17"
   ]
  },
  {
   "cell_type": "code",
   "execution_count": 5,
   "metadata": {},
   "outputs": [
    {
     "name": "stdout",
     "output_type": "stream",
     "text": [
      "Arealet er 50.0 cm^2\n",
      "Arealet er 50.0 cm^2\n"
     ]
    }
   ],
   "source": [
    "# 2. Hva gjør koden?\n",
    "# Regner ut arealet til en trekant\n",
    " \n",
    "# 3. Legg på kommentarer slik at koden blir forståelig for andre\n",
    "\n",
    "# Spør om grunnlinjen til en trekant\n",
    "a = float(input(\"Grunnlinje (cm): \"))\n",
    "# Spør om høyden til trekanten\n",
    "b = float(input(\"Høyde (cm): \"))\n",
    "# Bruker formelen Grunnlinje * Høyde / 2 for å regne ut areal\n",
    "c = a*b/2\n",
    "# Printer arealet\n",
    "print(f\"Arealet er {c} cm^2\")\n",
    " \n",
    "## ------\n",
    "# 4. Fjern alle kommentarer og endre koden slik at den blir enklere å forstå\n",
    "# 5. Se over koden og legg på eventuelle nødvendige kommentarer\n",
    " \n",
    "Grunnlinje = float(input(\"Grunnlinje (cm): \"))\n",
    "Høyde = float(input(\"Høyde (cm): \"))\n",
    "# Bruker formelen Grunnlinje * Høyde / 2 for å regne ut areal\n",
    "Areal = Grunnlinje*Høyde/2\n",
    "print(f\"Arealet er {Areal} cm^2\")"
   ]
  },
  {
   "cell_type": "markdown",
   "metadata": {},
   "source": [
    "## Oppgave 3.18"
   ]
  },
  {
   "cell_type": "code",
   "execution_count": 1,
   "metadata": {},
   "outputs": [
    {
     "name": "stdout",
     "output_type": "stream",
     "text": [
      "2\n",
      "2\n"
     ]
    }
   ],
   "source": [
    "# 2. Hva gjør koden?\n",
    "# Sorterer alle sjåførene etter nasjonalitet og printer antall britiske og spanske\n",
    " \n",
    "# 3. Legg på kommentarer slik at koden blir forståelig for andre\n",
    "\n",
    "# Lager en liste med sjåfører\n",
    "f1 = [\n",
    "    {\"navn\": \"Max Verstappen\", \"nasjonalitet\": \"nederlandsk\", \"team\": \"Red Bull Racing\", \"bilnummer\": 1},\n",
    "    {\"navn\": \"Sergio Perez\", \"nasjonalitet\": \"meksikansk\", \"team\": \"Red Bull Racing\", \"bilnummer\": 11},\n",
    "    {\"navn\": \"Lewis Hamilton\", \"nasjonalitet\": \"britisk\", \"team\": \"Mercedes\", \"bilnummer\": 44},\n",
    "    {\"navn\": \"George Russell\", \"nasjonalitet\": \"britisk\", \"team\": \"Mercedes\", \"bilnummer\": 63},\n",
    "    {\"navn\": \"Charles Leclerc\", \"nasjonalitet\": \"monegaskisk\", \"team\": \"Ferrari\", \"bilnummer\": 16},\n",
    "    {\"navn\": \"Kevin Magnussen\", \"nasjonalitet\": \"dansk\", \"team\": \"Haas F1 Team\", \"bilnummer\": 20},\n",
    "    {\"navn\": \"Nico Hulkenberg\", \"nasjonalitet\": \"tysk\", \"team\": \"Haas F1 Team\", \"bilnummer\": 27}\n",
    "]\n",
    "\n",
    "# lager en ordbod for land\n",
    "antall = {}\n",
    " \n",
    "# Går gjennom induvidielle sjåfører\n",
    "for s in f1:         \n",
    "  # Sjekker om nasjonaliteten er i lista\n",
    "  if s['nasjonalitet'] not in antall:\n",
    "    # Legger til en nye nasjonalitet\n",
    "    antall[s['nasjonalitet']] = 1\n",
    "  else:\n",
    "    # Legger til en ekstra i nr på nasjonaliteten siden den er på lista\n",
    "    antall[s['nasjonalitet']] += 1\n",
    " \n",
    "print(antall[\"britisk\"])\n",
    "\n",
    "## ------\n",
    "# 4. Fjern alle kommentarer og endre koden slik at den blir enklere å forstå\n",
    "# 5. Se over koden, og legg på eventuelle kommentarer\n",
    " \n",
    "# Lager en liste med sjåfører\n",
    "f1 = [\n",
    "    {\"navn\": \"Max Verstappen\", \"nasjonalitet\": \"nederlandsk\", \"team\": \"Red Bull Racing\", \"bilnummer\": 1},\n",
    "    {\"navn\": \"Sergio Perez\", \"nasjonalitet\": \"meksikansk\", \"team\": \"Red Bull Racing\", \"bilnummer\": 11},\n",
    "    {\"navn\": \"Lewis Hamilton\", \"nasjonalitet\": \"britisk\", \"team\": \"Mercedes\", \"bilnummer\": 44},\n",
    "    {\"navn\": \"George Russell\", \"nasjonalitet\": \"britisk\", \"team\": \"Mercedes\", \"bilnummer\": 63},\n",
    "    {\"navn\": \"Charles Leclerc\", \"nasjonalitet\": \"monegaskisk\", \"team\": \"Ferrari\", \"bilnummer\": 16},\n",
    "    {\"navn\": \"Kevin Magnussen\", \"nasjonalitet\": \"dansk\", \"team\": \"Haas F1 Team\", \"bilnummer\": 20},\n",
    "    {\"navn\": \"Nico Hulkenberg\", \"nasjonalitet\": \"tysk\", \"team\": \"Haas F1 Team\", \"bilnummer\": 27}\n",
    "]\n",
    "\n",
    "Nasjonalitet = {}\n",
    " \n",
    "# Går gjennom induvidielle sjåfører\n",
    "for sjåfør in f1:         \n",
    "  # Sjekker om nasjonaliteten er i lista\n",
    "  if sjåfør['nasjonalitet'] not in Nasjonalitet:\n",
    "    Nasjonalitet[sjåfør['nasjonalitet']] = 1\n",
    "  else:\n",
    "    # Legger til en ekstra i nr på nasjonaliteten siden den er på lista\n",
    "    Nasjonalitet[sjåfør['nasjonalitet']] += 1\n",
    " \n",
    "print(Nasjonalitet[\"britisk\"])\n",
    "\n",
    " "
   ]
  },
  {
   "cell_type": "code",
   "execution_count": null,
   "metadata": {},
   "outputs": [],
   "source": [
    "class Elev: \n",
    "    \"\"\"\n",
    "    En Klasse for elever på VGS\n",
    "\n",
    "    attributter \n",
    "        navn (str): navnet til eleven\n",
    "        alder (int): alderen til eleven\n",
    "        klasse (str): bokstavklassen til eleven (eks: STG)\n",
    "        fag (list[str]): en liste med fagene elevene har\n",
    "\n",
    "    metoder\n",
    "        legg_til_fag (fag:str): legger til et fag til faglisten\n",
    "        fjern_fag (fag:str): fjerner et fag til faglisten\n",
    "        vis_info (): printer info om eleven\n",
    "    \"\"\"\n",
    "    def __init__(self, navn:str, alder:int, klasse:str) -> None:\n",
    "        self.navn: str = navn\n",
    "        self.alder: int = alder\n",
    "        self.klasse: str = klasse\n",
    "        self.fag: \n",
    "        pass\n",
    "\n",
    "  "
   ]
  }
 ],
 "metadata": {
  "kernelspec": {
   "display_name": "Python 3",
   "language": "python",
   "name": "python3"
  },
  "language_info": {
   "codemirror_mode": {
    "name": "ipython",
    "version": 3
   },
   "file_extension": ".py",
   "mimetype": "text/x-python",
   "name": "python",
   "nbconvert_exporter": "python",
   "pygments_lexer": "ipython3",
   "version": "3.12.0"
  }
 },
 "nbformat": 4,
 "nbformat_minor": 2
}
