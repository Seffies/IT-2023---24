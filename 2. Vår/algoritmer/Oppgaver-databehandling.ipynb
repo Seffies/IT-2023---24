{
 "cells": [
  {
   "cell_type": "code",
   "execution_count": 12,
   "metadata": {},
   "outputs": [
    {
     "name": "stdout",
     "output_type": "stream",
     "text": [
      "<class 'list'>\n"
     ]
    },
    {
     "data": {
      "text/plain": [
       "{'navn': 'La Diabla',\n",
       " 'artist': 'Xavi',\n",
       " 'bilde_url': 'https://i.scdn.co/image/ab67616d00001e021501c770de50a22b25d67611',\n",
       " 'plassering': 1,\n",
       " 'forrige_plassering': 1,\n",
       " 'topplassering': 1,\n",
       " 'topp_dato': '2024-01-11',\n",
       " 'uker_paa_listen': 5,\n",
       " 'antall_streams': 34195950}"
      ]
     },
     "execution_count": 12,
     "metadata": {},
     "output_type": "execute_result"
    }
   ],
   "source": [
    "import json\n",
    "with open(\"spotify-weekly-top-songs-global-uke2-2023.json\") as fil:\n",
    "    data_spotify = json.load(fil)\n",
    "print(type(data_spotify))\n",
    "data_spotify[0]"
   ]
  },
  {
   "cell_type": "code",
   "execution_count": 13,
   "metadata": {},
   "outputs": [
    {
     "data": {
      "text/plain": [
       "{'navn': 'Believer',\n",
       " 'artist': 'Imagine Dragons',\n",
       " 'bilde_url': 'https://i.scdn.co/image/ab67616d00001e025675e83f707f1d7271e5cf8a',\n",
       " 'plassering': 173,\n",
       " 'forrige_plassering': 173,\n",
       " 'topplassering': 16,\n",
       " 'topp_dato': '2017-06-29',\n",
       " 'uker_paa_listen': 358,\n",
       " 'antall_streams': 8322500}"
      ]
     },
     "execution_count": 13,
     "metadata": {},
     "output_type": "execute_result"
    }
   ],
   "source": [
    "#oppgave 1_1\n",
    "def flest_uker_paa_listen(liste:list):\n",
    "    highest = liste[0]\n",
    "    for objekt in liste:\n",
    "        if objekt[\"uker_paa_listen\"] > highest[\"uker_paa_listen\"]:\n",
    "            highest = objekt\n",
    "    return highest\n",
    "\n",
    "flest_uker_paa_listen(data_spotify)"
   ]
  },
  {
   "cell_type": "code",
   "execution_count": 7,
   "metadata": {},
   "outputs": [
    {
     "data": {
      "text/plain": [
       "120017297"
      ]
     },
     "execution_count": 7,
     "metadata": {},
     "output_type": "execute_result"
    }
   ],
   "source": [
    "#oppgave 1_2\n",
    "def sum(liste: list):\n",
    "    total = 0\n",
    "    for objekt in liste:\n",
    "        if objekt[\"artist\"] == \"Taylor Swift\":\n",
    "            total += objekt[\"antall_streams\"]\n",
    "    return total\n",
    "\n",
    "sum(data_spotify)"
   ]
  },
  {
   "cell_type": "code",
   "execution_count": 10,
   "metadata": {},
   "outputs": [
    {
     "name": "stdout",
     "output_type": "stream",
     "text": [
      "<class 'list'>\n"
     ]
    },
    {
     "data": {
      "text/plain": [
       "{'navn': 'Yôjinbô',\n",
       " 'bilde': 'https://m.media-amazon.com/images/M/MV5BZThiZjAzZjgtNDU3MC00YThhLThjYWUtZGRkYjc2ZWZlOTVjXkEyXkFqcGdeQXVyNTA4NzY1MzY@._V1_.jpg',\n",
       " 'sjangere': ['Action', 'Drama', 'Thriller'],\n",
       " 'url': 'https://www.imdb.com//title/tt0055630/',\n",
       " 'beskrivelse': 'A crafty ronin comes to a town divided by two criminal gangs and decides to play them against each other to free the town.',\n",
       " 'dato': '1961-09-13',\n",
       " 'regissører': ['Akira Kurosawa'],\n",
       " 'trailer': 'https://www.imdb.com/video/imdb/vi1659814169/imdb/embed?autoplay=false&width=640',\n",
       " 'karakter': 8.2}"
      ]
     },
     "execution_count": 10,
     "metadata": {},
     "output_type": "execute_result"
    }
   ],
   "source": [
    "import json\n",
    "with open(\"imdb_top250.json\") as fil:\n",
    "    data_imdb = json.load(fil)\n",
    "print(type(data_imdb))\n",
    "data_imdb[0]"
   ]
  },
  {
   "cell_type": "code",
   "execution_count": 11,
   "metadata": {},
   "outputs": [
    {
     "data": {
      "text/plain": [
       "{'navn': 'The Shawshank Redemption',\n",
       " 'bilde': 'https://m.media-amazon.com/images/M/MV5BMDFkYTc0MGEtZmNhMC00ZDIzLWFmNTEtODM1ZmRlYWMwMWFmXkEyXkFqcGdeQXVyMTMxODk2OTU@._V1_.jpg',\n",
       " 'sjangere': ['Drama'],\n",
       " 'url': 'https://www.imdb.com//title/tt0111161/',\n",
       " 'beskrivelse': 'Two imprisoned men bond over a number of years, finding solace and eventual redemption through acts of common decency.',\n",
       " 'dato': '1994-10-14',\n",
       " 'regissører': ['Frank Darabont'],\n",
       " 'trailer': 'https://www.imdb.com/video/imdb/vi3877612057/imdb/embed?autoplay=false&width=640',\n",
       " 'karakter': 9.3}"
      ]
     },
     "execution_count": 11,
     "metadata": {},
     "output_type": "execute_result"
    }
   ],
   "source": [
    "#oppgave 2_1\n",
    "def hoyest_karakter(liste:list):\n",
    "    highest = liste[0]\n",
    "    for objekt in liste:\n",
    "        if objekt[\"karakter\"] > highest[\"karakter\"]:\n",
    "            highest = objekt\n",
    "    return highest\n",
    "\n",
    "hoyest_karakter(data_imdb)"
   ]
  },
  {
   "cell_type": "code",
   "execution_count": 14,
   "metadata": {},
   "outputs": [
    {
     "data": {
      "text/plain": [
       "8.32199999999999"
      ]
     },
     "execution_count": 14,
     "metadata": {},
     "output_type": "execute_result"
    }
   ],
   "source": [
    "#oppgave 2_2\n",
    "def gjennomsnitt(liste: list):\n",
    "    total = 0\n",
    "    antall = 0\n",
    "    for objekt in liste:\n",
    "        total += objekt[\"karakter\"]\n",
    "        antall += 1\n",
    "    return total/antall\n",
    "\n",
    "gjennomsnitt(data_imdb)"
   ]
  },
  {
   "cell_type": "code",
   "execution_count": 18,
   "metadata": {},
   "outputs": [
    {
     "data": {
      "text/plain": [
       "8.61"
      ]
     },
     "execution_count": 18,
     "metadata": {},
     "output_type": "execute_result"
    }
   ],
   "source": [
    "#oppgave 2_3\n",
    "def n_hoyeste_komplisert(liste: list[int], n:int):\n",
    "    n_hoyeste = []\n",
    "    for i in range(0, n):\n",
    "        hoyest = hoyest_karakter(data_imdb)\n",
    "        liste.remove(hoyest)\n",
    "        n_hoyeste.append(hoyest)\n",
    "    return n_hoyeste\n",
    "\n",
    "ny_liste = n_hoyeste_komplisert(data_imdb, 10)\n",
    "\n",
    "gjennomsnitt(ny_liste)\n"
   ]
  }
 ],
 "metadata": {
  "kernelspec": {
   "display_name": "Python 3",
   "language": "python",
   "name": "python3"
  },
  "language_info": {
   "codemirror_mode": {
    "name": "ipython",
    "version": 3
   },
   "file_extension": ".py",
   "mimetype": "text/x-python",
   "name": "python",
   "nbconvert_exporter": "python",
   "pygments_lexer": "ipython3",
   "version": "3.12.0"
  }
 },
 "nbformat": 4,
 "nbformat_minor": 2
}
